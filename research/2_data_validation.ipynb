{
 "cells": [
  {
   "cell_type": "markdown",
   "metadata": {},
   "source": [
    "## check data"
   ]
  },
  {
   "cell_type": "code",
   "execution_count": 1,
   "metadata": {},
   "outputs": [],
   "source": [
    "import os"
   ]
  },
  {
   "cell_type": "code",
   "execution_count": null,
   "metadata": {},
   "outputs": [],
   "source": [
    "%pwd"
   ]
  },
  {
   "cell_type": "code",
   "execution_count": 3,
   "metadata": {},
   "outputs": [],
   "source": [
    "os.chdir(\"../\")"
   ]
  },
  {
   "cell_type": "code",
   "execution_count": null,
   "metadata": {},
   "outputs": [],
   "source": [
    "%pwd"
   ]
  },
  {
   "cell_type": "code",
   "execution_count": 5,
   "metadata": {},
   "outputs": [],
   "source": [
    "import numpy as np\n",
    "import pandas as pd\n",
    "import matplotlib.pyplot as plt\n",
    "%matplotlib inline"
   ]
  },
  {
   "cell_type": "code",
   "execution_count": null,
   "metadata": {},
   "outputs": [],
   "source": [
    "df=pd.read_csv(\"artifacts/data_ingestion/iris.csv\")\n",
    "df.head()"
   ]
  },
  {
   "cell_type": "code",
   "execution_count": 7,
   "metadata": {},
   "outputs": [],
   "source": [
    "X=df.drop(\"name\", axis=1)\n",
    "y=df[\"name\"]"
   ]
  },
  {
   "cell_type": "code",
   "execution_count": null,
   "metadata": {},
   "outputs": [],
   "source": [
    "X.head()"
   ]
  },
  {
   "cell_type": "code",
   "execution_count": null,
   "metadata": {},
   "outputs": [],
   "source": [
    "y.head()"
   ]
  },
  {
   "cell_type": "code",
   "execution_count": null,
   "metadata": {},
   "outputs": [],
   "source": [
    "list(df.columns)"
   ]
  },
  {
   "cell_type": "code",
   "execution_count": null,
   "metadata": {},
   "outputs": [],
   "source": [
    "df.shape"
   ]
  },
  {
   "cell_type": "code",
   "execution_count": null,
   "metadata": {},
   "outputs": [],
   "source": [
    "df.info()"
   ]
  },
  {
   "cell_type": "code",
   "execution_count": null,
   "metadata": {},
   "outputs": [],
   "source": [
    "df.describe()"
   ]
  },
  {
   "cell_type": "code",
   "execution_count": null,
   "metadata": {},
   "outputs": [],
   "source": [
    "#no null value\n",
    "df.isnull().value_counts()"
   ]
  },
  {
   "cell_type": "code",
   "execution_count": 15,
   "metadata": {},
   "outputs": [],
   "source": [
    "df.isnull().sum()\n",
    "\n",
    "df.columns\n",
    "\n",
    "def checknull(data):\n",
    "    for i in range(len(data.columns)):\n",
    "        if(int(df[df.columns[i]].isnull().sum())==0):\n",
    "            return True\n"
   ]
  },
  {
   "cell_type": "code",
   "execution_count": null,
   "metadata": {},
   "outputs": [],
   "source": [
    "df.iloc[:,:-1]"
   ]
  },
  {
   "cell_type": "code",
   "execution_count": null,
   "metadata": {},
   "outputs": [],
   "source": [
    "df.iloc[:,-1]"
   ]
  },
  {
   "cell_type": "code",
   "execution_count": null,
   "metadata": {},
   "outputs": [],
   "source": [
    "if(int(df[df.columns[0]].isnull().sum()) ==0 ):\n",
    "    print(\"hhhhh\")\n",
    "\n"
   ]
  },
  {
   "cell_type": "markdown",
   "metadata": {},
   "source": [
    "### EDA"
   ]
  },
  {
   "cell_type": "code",
   "execution_count": null,
   "metadata": {},
   "outputs": [],
   "source": [
    "import matplotlib.pyplot as plt\n",
    "import seaborn as sns\n",
    "from src.irisdataprediction.utils.common import save_figure\n",
    "%matplotlib inline\n",
    "\n",
    "# to set default font size\n",
    "\n",
    "# plt.rc('font', size=14)\n",
    "# plt.rc('axes', labelsize=14, titlesize=14)\n",
    "# plt.rc('legend', fontsize=14)\n",
    "# plt.rc('xtick',labelsize=10)\n",
    "# plt.rc('ytick',labelsize=10)\n",
    "df.hist(bins=50,figsize=(12,8))\n",
    "# save_figure(\"test\", tight_layout=True, fig_extension=\"png\", resolution=300,image_path=\"\")\n",
    "# print(\"---------------\",type(plt).__name__)\n"
   ]
  },
  {
   "cell_type": "code",
   "execution_count": null,
   "metadata": {},
   "outputs": [],
   "source": [
    "type(df[df.columns[3]].iloc[3])"
   ]
  },
  {
   "cell_type": "code",
   "execution_count": null,
   "metadata": {},
   "outputs": [],
   "source": [
    "for i in range(len(df.columns)):\n",
    "    if type(df[df.columns[i]].iloc[i]) !=str:\n",
    "        print(df.columns[i])\n",
    "        "
   ]
  },
  {
   "cell_type": "code",
   "execution_count": null,
   "metadata": {},
   "outputs": [],
   "source": [
    "df.info()"
   ]
  },
  {
   "cell_type": "code",
   "execution_count": null,
   "metadata": {},
   "outputs": [],
   "source": [
    "df.groupby('name')['name'].count()"
   ]
  },
  {
   "cell_type": "code",
   "execution_count": null,
   "metadata": {},
   "outputs": [],
   "source": [
    "df['name'].describe()"
   ]
  },
  {
   "cell_type": "code",
   "execution_count": 18,
   "metadata": {},
   "outputs": [],
   "source": [
    "from pathlib import Path\n",
    "IMAGE_PATH=Path() /\"images\"/\"EDA\""
   ]
  },
  {
   "cell_type": "code",
   "execution_count": 19,
   "metadata": {},
   "outputs": [],
   "source": [
    "#separate dataset into train and test\n",
    "from sklearn.model_selection import train_test_split\n",
    "\n",
    "X_train, X_test, y_train,y_test=train_test_split(X,y, test_size=0.3, random_state=42)"
   ]
  },
  {
   "cell_type": "code",
   "execution_count": null,
   "metadata": {},
   "outputs": [],
   "source": [
    "X_train.shape, y_train.shape"
   ]
  },
  {
   "cell_type": "code",
   "execution_count": null,
   "metadata": {},
   "outputs": [],
   "source": [
    "X_train.corr()"
   ]
  },
  {
   "cell_type": "code",
   "execution_count": null,
   "metadata": {},
   "outputs": [],
   "source": [
    "import seaborn as sns\n",
    "\n",
    "plt.figure(figsize=(5,3))\n",
    "cor=df.iloc[:,:-1].corr()\n",
    "sns.heatmap(cor, annot=True, cmap=plt.cm.CMRmap_r)\n",
    "plt.show()"
   ]
  },
  {
   "cell_type": "code",
   "execution_count": null,
   "metadata": {},
   "outputs": [],
   "source": [
    "import seaborn as sns\n",
    "\n",
    "plt.figure(figsize=(5,3))\n",
    "cor=X_train.corr()\n",
    "sns.heatmap(cor, annot=True, cmap=plt.cm.CMRmap_r)\n",
    "plt.show()"
   ]
  },
  {
   "cell_type": "code",
   "execution_count": null,
   "metadata": {},
   "outputs": [],
   "source": [
    "fig, axes = plt.subplots(nrows=1, ncols=4, figsize=(20, 8))\n",
    "i=0\n",
    "for ax, column in zip(axes.flat, df.columns):\n",
    "\n",
    "    if type(df[column].iloc[i]) !=str:\n",
    "        sns.boxplot(df[column],ax=ax)\n",
    "        ax.set_title(column)\n",
    "        i +=1\n",
    "fig.tight_layout()\n",
    "plt.show()"
   ]
  },
  {
   "cell_type": "code",
   "execution_count": 23,
   "metadata": {},
   "outputs": [],
   "source": [
    "# with the following function we can select highly correlated features\n",
    "# It will remove the first feature that is correlated with anything other feature\n",
    "\n",
    "def correlation(dataset, threshold):\n",
    "    col_corr=set() #set of the names of correlated columns\n",
    "    corr_matrix=dataset.corr()\n",
    "\n",
    "    for i in range(len(corr_matrix.columns)):\n",
    "        for j in range(i):\n",
    "            if abs(corr_matrix.iloc[i,j])> threshold: #absolute is to compare +ve and -ve correlated columns both with threshold.\n",
    "                colname= corr_matrix.columns[i] #getting the name of the column\n",
    "                col_corr.add(colname)\n",
    "    \n",
    "    return col_corr"
   ]
  },
  {
   "cell_type": "code",
   "execution_count": null,
   "metadata": {},
   "outputs": [],
   "source": [
    "#will use 85% as threshold\n",
    "corr_features=correlation(X_train, 0.85)\n",
    "len(set(corr_features))"
   ]
  },
  {
   "cell_type": "code",
   "execution_count": null,
   "metadata": {},
   "outputs": [],
   "source": [
    "corr_features"
   ]
  },
  {
   "cell_type": "code",
   "execution_count": null,
   "metadata": {},
   "outputs": [],
   "source": [
    "#dropping the correlated features\n",
    "\n",
    "X_train.drop(corr_features, axis=1)\n",
    "X_test.drop(corr_features,axis=1)"
   ]
  },
  {
   "cell_type": "code",
   "execution_count": 27,
   "metadata": {},
   "outputs": [],
   "source": [
    "from dataclasses import dataclass\n",
    "from pathlib import Path\n",
    "\n",
    "@dataclass\n",
    "class DataValidationConfig:\n",
    "    root_dir: Path\n",
    "    STATUS_FILE: str\n",
    "    unzip_data_dir: Path\n",
    "    all_schema: dict  #this is to hold data from schema.yaml\n",
    "    image_path: Path"
   ]
  },
  {
   "cell_type": "code",
   "execution_count": null,
   "metadata": {},
   "outputs": [],
   "source": []
  },
  {
   "cell_type": "code",
   "execution_count": 28,
   "metadata": {},
   "outputs": [],
   "source": [
    "import os\n",
    "import sys\n",
    "import pandas as pd\n",
    "from src.irisdataprediction import logger\n",
    "from src.irisdataprediction.constants import *\n",
    "from src.irisdataprediction.utils.common import read_yaml, create_directories,save_figure\n",
    "from src.irisdataprediction.exception import IrisPredictionException\n",
    "import matplotlib.pyplot as plt\n",
    "import seaborn as sns\n",
    "%matplotlib inline"
   ]
  },
  {
   "cell_type": "code",
   "execution_count": 29,
   "metadata": {},
   "outputs": [],
   "source": [
    "class ConfigurationManager:\n",
    "    def __init__(self, config_filepath=CONFIG_FILE_PATH, params_filepath=PARAMS_FILE_PATH, schema_filepath=SCHEMA_FILE_PATH):\n",
    "        self.config= read_yaml(config_filepath)\n",
    "        self.params=read_yaml(params_filepath)\n",
    "        self.schema=read_yaml(schema_filepath)\n",
    "\n",
    "        create_directories([self.config.artifacts_root])\n",
    "    \n",
    "    def get_data_validation_config(self)->DataValidationConfig:\n",
    "        config=self.config.data_validation\n",
    "        schema= self.schema.COLUMNS\n",
    "\n",
    "        create_directories([config.root_dir])\n",
    "        create_directories([config.image_path])\n",
    "\n",
    "        data_validation_config=DataValidationConfig(\n",
    "            root_dir= config.root_dir,\n",
    "            STATUS_FILE=config.STATUS_FILE,\n",
    "            unzip_data_dir=config.unzip_data_dir,\n",
    "            all_schema=schema,\n",
    "            image_path=config.image_path\n",
    "        )\n",
    "\n",
    "        return data_validation_config"
   ]
  },
  {
   "cell_type": "code",
   "execution_count": 77,
   "metadata": {},
   "outputs": [],
   "source": [
    "class DataValidation:\n",
    "    def __init__(self, config: DataValidationConfig):\n",
    "        self.config= config\n",
    "        self.dataset=pd.read_csv(self.config.unzip_data_dir)\n",
    "\n",
    "    def validate_all_columns(self)->bool:\n",
    "        try:\n",
    "            validation_status= None\n",
    "            dataset=self.dataset\n",
    "\n",
    "            # data= pd.read_csv(self.config.unzip_data_dir)\n",
    "            all_cols= list(dataset.columns)\n",
    "            all_schema=self.config.all_schema.keys()\n",
    "\n",
    "            for col in all_cols:\n",
    "                if col not in all_schema:\n",
    "                    validation_status=False\n",
    "                    with open(self.config.STATUS_FILE,'w') as f:\n",
    "                        f.write(f\"Validation status: {validation_status}\")\n",
    "                else:\n",
    "                    validation_status= True\n",
    "                    with open(self.config.STATUS_FILE, 'w') as f:\n",
    "                        f.write(f\"Validation status: {validation_status}\")\n",
    "            return validation_status\n",
    "\n",
    "        except Exception as e:\n",
    "            raise IrisPredictionException(e, sys)\n",
    "\n",
    "    def eda(self):\n",
    "\n",
    "        dataset=self.dataset\n",
    "        # to set default font size        \n",
    "        dataset.hist(bins=50,figsize=(12,8))\n",
    "        save_figure(\"attribute_histogram_plots\",self.config.image_path,tight_layout=True, fig_extension=\"png\", resolution=300)\n",
    "        plt.show()\n",
    "\n",
    "        # check dataset embalance\n",
    "        dataset['name'].value_counts().plot(kind='bar')\n",
    "        plt.title(\"class distribution\")\n",
    "        plt.xlabel(\"class\")\n",
    "        plt.ylabel('Count')\n",
    "        save_figure(\"class_count_check_data_imbalance\",self.config.image_path,tight_layout=True, fig_extension=\"png\", resolution=300)\n",
    "        plt.show()\n",
    "\n",
    "        #check of outliers\n",
    "        #set the figure size\n",
    "        fig, axes = plt.subplots(nrows=1, ncols=4, figsize=(20, 8))\n",
    "        i=0\n",
    "        for ax, column in zip(axes.flat, dataset.columns):\n",
    "\n",
    "            if type(dataset[column].iloc[i]) !=str:\n",
    "                sns.boxplot(dataset[column],ax=ax)\n",
    "                ax.set_title(column)\n",
    "            i +=1\n",
    "        fig.tight_layout()\n",
    "        save_figure(\"check_outliers\",self.config.image_path,tight_layout=True, fig_extension=\"png\", resolution=300)\n",
    "        plt.show()\n",
    "        \n",
    "\n",
    "    def validate_null_value(self):\n",
    "        try:\n",
    "            validation_status= None\n",
    "            dataset=self.dataset\n",
    "\n",
    "            for i in range(len(dataset.columns)):\n",
    "                if(int(df[df.columns[i]].isnull().sum())==0):\n",
    "                    validation_status= True\n",
    "\n",
    "                else:\n",
    "                    validation_status= False\n",
    "                    \n",
    "                break\n",
    "            if(validation_status):\n",
    "                    with open (self.config.STATUS_FILE,'w') as f:\n",
    "                        f.write(f\"Validation status: {validation_status}\")\n",
    "\n",
    "        except Exception as e:\n",
    "            raise IrisPredictionException(e, sys)\n",
    "            "
   ]
  },
  {
   "cell_type": "code",
   "execution_count": null,
   "metadata": {},
   "outputs": [],
   "source": [
    "try:\n",
    "    config= ConfigurationManager()\n",
    "    data_validation_config= config.get_data_validation_config()\n",
    "    data_validation= DataValidation(config=data_validation_config)\n",
    "    data_validation.validate_all_columns()\n",
    "    data_validation.eda()\n",
    "    data_validation.validate_null_value()\n",
    "except Exception as e:\n",
    "    raise IrisPredictionException(e, sys)\n"
   ]
  }
 ],
 "metadata": {
  "kernelspec": {
   "display_name": "irispred",
   "language": "python",
   "name": "python3"
  },
  "language_info": {
   "codemirror_mode": {
    "name": "ipython",
    "version": 3
   },
   "file_extension": ".py",
   "mimetype": "text/x-python",
   "name": "python",
   "nbconvert_exporter": "python",
   "pygments_lexer": "ipython3",
   "version": "3.12.8"
  }
 },
 "nbformat": 4,
 "nbformat_minor": 2
}
