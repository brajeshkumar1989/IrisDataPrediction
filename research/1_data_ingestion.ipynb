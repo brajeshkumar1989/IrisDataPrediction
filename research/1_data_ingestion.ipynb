{
 "cells": [
  {
   "cell_type": "code",
   "execution_count": 1,
   "metadata": {},
   "outputs": [],
   "source": [
    "import os"
   ]
  },
  {
   "cell_type": "code",
   "execution_count": null,
   "metadata": {},
   "outputs": [],
   "source": [
    "%pwd"
   ]
  },
  {
   "cell_type": "code",
   "execution_count": 3,
   "metadata": {},
   "outputs": [],
   "source": [
    "os.chdir(\"../\")"
   ]
  },
  {
   "cell_type": "code",
   "execution_count": null,
   "metadata": {},
   "outputs": [],
   "source": [
    "%pwd"
   ]
  },
  {
   "cell_type": "code",
   "execution_count": 5,
   "metadata": {},
   "outputs": [],
   "source": [
    "#create configuration for directories \n",
    "from dataclasses import dataclass\n",
    "from pathlib import Path\n",
    "\n",
    "\n",
    "@dataclass\n",
    "class DataIngestionConfig:\n",
    "    root_dir: Path\n",
    "    local_data_file: Path\n",
    "    unzip_dir: Path\n",
    "    columns_info: list\n"
   ]
  },
  {
   "cell_type": "code",
   "execution_count": 6,
   "metadata": {},
   "outputs": [],
   "source": [
    "import sys\n",
    "import pandas as pd\n",
    "\n",
    "from src.irisdataprediction.constants import *\n",
    "from src.irisdataprediction.utils.common import read_yaml, create_directories\n",
    "from src.irisdataprediction.exception import IrisPredictionException\n",
    "from src.irisdataprediction import logger\n",
    "\n",
    "\n"
   ]
  },
  {
   "cell_type": "code",
   "execution_count": 8,
   "metadata": {},
   "outputs": [],
   "source": [
    "class ConfigurationManager:\n",
    "    def __init__(self, config_filepath=CONFIG_FILE_PATH, params_filepath=PARAMS_FILE_PATH, schema_filepath=SCHEMA_FILE_PATH):\n",
    "        logger.info(f\"<<<<<< Setting up path, params, schema configurations >>>>>>\")\n",
    "        self.config=read_yaml(config_filepath)\n",
    "        self.params=read_yaml(params_filepath)\n",
    "        self.schema=read_yaml(schema_filepath)\n",
    "\n",
    "        create_directories([self.config.artifacts_root])\n",
    "        logger.info(f\"<<<<<< Configuration detail scan completed followed by parent directory artifacts creation >>>>>>\")\n",
    "\n",
    "    def get_data_ingestion_config(self)->DataIngestionConfig:\n",
    "        config=self.config.data_ingestion\n",
    "        schema_independent=self.schema.COLUMNS\n",
    "        schema_dependent=self.schema.TARGET_COLUMN\n",
    "\n",
    "        #create directories\n",
    "        create_directories([config.root_dir])\n",
    "        logger.info(f\"<<<<<< subdirectories created for artifacts Ingestion >>>>>>\")\n",
    "\n",
    "        #return created directories for file read, write and content manipulation\n",
    "        data_ingestion_config=DataIngestionConfig(\n",
    "            root_dir=config.root_dir,\n",
    "            local_data_file= config.local_data_file,\n",
    "            unzip_dir=config.unzip_dir,\n",
    "            columns_info= [*schema_independent.keys(), *schema_dependent.keys()]\n",
    "\n",
    "        )\n",
    "       \n",
    "        return data_ingestion_config"
   ]
  },
  {
   "cell_type": "code",
   "execution_count": null,
   "metadata": {},
   "outputs": [],
   "source": [
    "temp=read_yaml(SCHEMA_FILE_PATH)\n",
    "columns=[*temp.COLUMNS.keys(),*temp.TARGET_COLUMN.keys()]\n",
    "print([*temp.COLUMNS.keys(),*temp.TARGET_COLUMN.keys()])\n",
    "\n",
    "df=pd.read_csv('iris_data/iris.data')\n",
    "df.columns=columns\n",
    "df.head()"
   ]
  },
  {
   "cell_type": "code",
   "execution_count": 21,
   "metadata": {},
   "outputs": [],
   "source": [
    "## Component-Data ingestion\n",
    "\n",
    "class DataIngestion:\n",
    "    def __init__(self, config:DataIngestionConfig):\n",
    "        self.config=config\n",
    "\n",
    "    def convert_to_csv_and_save_to_disk(self):\n",
    "        logger.info(f\"<<<<<< data ingestion: read data and convert to csv initiated >>>>>>\")\n",
    "        raw_data=pd.read_csv(self.config.local_data_file)\n",
    "        raw_data.columns=self.config.columns_info\n",
    "        save_path= self.config.unzip_dir+'/'+'iris.csv'\n",
    "        raw_data.to_csv(save_path, index=False)\n",
    "        logger.info(f\"<<<<<< data ingestion: data converted to csv and stored in data ingestion  >>>>>>\")\n",
    "\n",
    "\n"
   ]
  },
  {
   "cell_type": "code",
   "execution_count": null,
   "metadata": {},
   "outputs": [],
   "source": [
    "try:\n",
    "    config=ConfigurationManager()\n",
    "    data_ingestion_config=config.get_data_ingestion_config()\n",
    "    data_ingestion=DataIngestion(config=data_ingestion_config)\n",
    "    data_ingestion.convert_to_csv_and_save_to_disk()\n",
    "except Exception as e:\n",
    "    raise IrisPredictionException(e, sys)"
   ]
  }
 ],
 "metadata": {
  "kernelspec": {
   "display_name": "irispred",
   "language": "python",
   "name": "python3"
  },
  "language_info": {
   "codemirror_mode": {
    "name": "ipython",
    "version": 3
   },
   "file_extension": ".py",
   "mimetype": "text/x-python",
   "name": "python",
   "nbconvert_exporter": "python",
   "pygments_lexer": "ipython3",
   "version": "3.12.8"
  }
 },
 "nbformat": 4,
 "nbformat_minor": 2
}
